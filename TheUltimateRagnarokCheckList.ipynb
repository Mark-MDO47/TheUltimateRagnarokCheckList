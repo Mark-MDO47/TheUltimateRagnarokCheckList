{
 "cells": [
  {
   "cell_type": "markdown",
   "metadata": {},
   "source": [
    "# The Ultimate Ragnarok Checklist - by I.A."
   ]
  },
  {
   "cell_type": "markdown",
   "metadata": {},
   "source": [
    "### Foreword\n",
    "\n",
    "My daughter created The (Ultimate) Ragnarok Checklist to determine the accuracy (we live in an age of fact-checking) of the movie - I am sure you know which one; don't want to get into copyright or trademark trouble here... Oops - I.A. put it in the references. Here come the lawyers...\n",
    "\n",
    "For all those concerned, note that the checklist was created before viewing the movie. In the best traditions of the scientific method. There was also an implied hypothesis. However, it was not a double-blind test.\n",
    "\n",
    "I added the word \"ultimate\" to her title (had to do some sort of value-add).\n",
    "\n",
    "If you want to extend your knowledge about some of the more intriguing items like Naglfar the toenail boat, you are on your own. However, I have been educated that the term Fenris Wolf and Fenrir refer to the same character."
   ]
  },
  {
   "cell_type": "markdown",
   "metadata": {},
   "source": [
    "## The Checklist(s)\n",
    "\n",
    "### Ragnarok\n",
    "| Num/Score | Title/Description |\n",
    "|---|:---|\n",
    "| 1 | Three winters in a row (Fimbulwinter) |\n",
    "| 0.0 *pts* | *Flat-out nope.* |\n",
    "| 2 | Loki and Fenris Wolf break free |\n",
    "| 0.5 *pts* | *I mean - kinda? Fenrir was dead, and Loki was chained at one (minor) point. But Loki was <b>not</b> chained by the guts of his son below a poisonous snake.* `Dad's note: that would have made a better movie???` |\n",
    "| 3 | Yggdrasil trembles |\n",
    "| 0.0 *pts* | *It didn't. There was a tree that wasn't Yggdrasil, and it caught on fire, but that's the closest it came.* |\n",
    "| 4 | Heimdall sees army of giants headed towards Asgard, sounds Gjallarhorn |\n",
    "| 0.25 *pts* | *There was no army of giants, just the one, and Heimdall did not alert the gods to said giant. But there was an army of the dead, which was a thing in the mythos, and they fought on the same side as their movie equivalent. Loki, who was supposed to lead them, didn't.* |\n",
    "| 5 | Loki at the helm of Naglfar |\n",
    "| 0.5 *pts* | *He was at the helm of a ship, and they didn't name it, so it could be Naglfar the Toenail Boat. Wrong side, though.* |\n",
    "| 6 | The giants destroy the world |\n",
    "| 0.5 *pts* | *<b>A</b> giant destroyed the world, so that kinda counts.* |\n",
    "| 7 | Fenrir consumes everything on and above Earth |\n",
    "| 0.5 *pts* | *He was there, and he fought, but the wolf didn't consume everything. Pity, that.* |\n",
    "| 8 | Surt the giant sets fire to the Earth |\n",
    "| 1.0 *pts* | *Yep. 10/10 points, for full mythological accuracy here.* |\n",
    "| 9 | Thor slays Jormungand, and Jormungand slays Thor |\n",
    "| 0.0 *pts* | *Jormungand the serpent did not make an appearance.* `Dad's note: cannot understand why they didn't kill off the goose who lays the billion-dollar movies.` |\n",
    "| 10 | Surt slays Freyr, Freyr slays Surt |\n",
    "| 0.0 *pts* | *Freyr did not make an appearance. Pity, that.* |\n",
    "| 11 | Fenrir kills Odin and Tyr, Vidar (Odin's son) kills Fenrir |\n",
    "| 0.0 *pts* | *Fenrir did not kill Odin, and Tyr the One-Handed did not make an appearance. Neither did Vidar.* |\n",
    "| 12 | Heimdall and Loki kill each other after all above |\n",
    "| <b>pending<b> | *Nope. Give it a few days on that ship, though.* |\n",
    "| 13 | The land sinks below the see, Ginnungagap restored |\n",
    "| 0.5 *pts* | *The land is still there, but maybe you can call space the Ginnungagap.* |\n",
    "| 14 | Balder returns, land recreated, new humans, young gods |\n",
    "| 0.5 *pts* | *Balder didn't make an appearance, but there was a new start of sorts.* |\n",
    "---\n",
    "<b>Overall: 4.25 + pending out of 14.0 points</b>\n",
    "\n",
    "### Lineage\n",
    "\n",
    "<b>0 *pts*</b>\n",
    "\n",
    "Lineage is horribly wrong in the Marvel Cinematic Universe in regards to Norse mythology (for shame, MCU, for shame). Laufey is Loki's <b>mother</b>, and Odin and Loki are blood-brothers. Hela is <b>Loki's</b> daughter, not Odin's. At most she'd be Odin's sort-of niece, since Odin and Loki are blood-brothers. And Sleipnir (Odin's horse) and Fenris Wolf are also Loki's children (and there's a <b>very</b> interesting story for both of those, too).\n",
    "\n",
    "### Oh. And just one more thing...\n",
    "All this was supposed to destroy everything, not just Asgard. But that I'm not particularly concerned about.\n"
   ]
  },
  {
   "cell_type": "markdown",
   "metadata": {},
   "source": [
    "### References:\n",
    "\n",
    "Gaiman, Neil. <i>Norse Mythology</i>. W. W. Norton and Company, Inc, 2017.\n",
    "\n",
    "McCoy, Daniel. \"Ragnarok\". Norse Mythology for Smart People, https://norse-mythology.org/tales/ragnarok/. Accessed 10 November 2017.\n",
    "\n",
    "<i>Thor: Ragnarok</i>. Directed by Taika Waititi. Marvel Studios, 2017"
   ]
  }
 ],
 "metadata": {
  "kernelspec": {
   "display_name": "Python 3",
   "language": "python",
   "name": "python3"
  },
  "language_info": {
   "codemirror_mode": {
    "name": "ipython",
    "version": 3
   },
   "file_extension": ".py",
   "mimetype": "text/x-python",
   "name": "python",
   "nbconvert_exporter": "python",
   "pygments_lexer": "ipython3",
   "version": "3.5.3"
  }
 },
 "nbformat": 4,
 "nbformat_minor": 2
}
